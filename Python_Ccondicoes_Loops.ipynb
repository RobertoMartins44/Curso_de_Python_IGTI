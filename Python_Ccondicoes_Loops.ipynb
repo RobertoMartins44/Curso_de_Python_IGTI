{
  "nbformat": 4,
  "nbformat_minor": 0,
  "metadata": {
    "colab": {
      "name": "Aula5_condicoesLoops.ipynb",
      "provenance": [],
      "collapsed_sections": [],
      "authorship_tag": "ABX9TyNKxthpOy8xZGNpAYZliy68",
      "include_colab_link": true
    },
    "kernelspec": {
      "name": "python3",
      "display_name": "Python 3"
    },
    "language_info": {
      "name": "python"
    }
  },
  "cells": [
    {
      "cell_type": "markdown",
      "metadata": {
        "id": "view-in-github",
        "colab_type": "text"
      },
      "source": [
        "<a href=\"https://colab.research.google.com/github/RobertoMartins44/Curso_de_Python_IGTI/blob/main/Python_Ccondicoes_Loops.ipynb\" target=\"_parent\"><img src=\"https://colab.research.google.com/assets/colab-badge.svg\" alt=\"Open In Colab\"/></a>"
      ]
    },
    {
      "cell_type": "code",
      "metadata": {
        "colab": {
          "base_uri": "https://localhost:8080/"
        },
        "id": "TWE_IifhibDN",
        "outputId": "34b7e0f7-6fc5-4b1a-8499-ac7e340a4676"
      },
      "source": [
        "numeros = (1,2,3,4,5,6,7,8,9,10)\n",
        "for i in numeros:\n",
        "  print (i) "
      ],
      "execution_count": null,
      "outputs": [
        {
          "output_type": "stream",
          "text": [
            "1\n",
            "2\n",
            "3\n",
            "4\n",
            "5\n",
            "6\n",
            "7\n",
            "8\n",
            "9\n",
            "10\n"
          ],
          "name": "stdout"
        }
      ]
    },
    {
      "cell_type": "code",
      "metadata": {
        "colab": {
          "base_uri": "https://localhost:8080/"
        },
        "id": "8cZOAU_GjIPK",
        "outputId": "db286319-13a4-43c3-a2a6-371238075738"
      },
      "source": [
        "#criando variaveis de exemplo\n",
        "\n",
        "a = 50\n",
        "b = 100\n",
        "c = 50 \n",
        "\n",
        "if a == c:\n",
        "    print ('A igual a C') \n",
        "else:\n",
        "    print ('A não é igual C')\n",
        "\n"
      ],
      "execution_count": null,
      "outputs": [
        {
          "output_type": "stream",
          "text": [
            "A igual a C\n"
          ],
          "name": "stdout"
        }
      ]
    },
    {
      "cell_type": "code",
      "metadata": {
        "id": "8IzkLvFRm50f"
      },
      "source": [
        "idade = int(input('Digite sua idade: '))\n",
        "\n",
        "if idade >= 18:\n",
        "  print ('Aulas de Habilitação liberadas')\n",
        "elif idade < 18:\n",
        "  print ('Aulas de Habilitação não permitido')\n",
        "\n"
      ],
      "execution_count": null,
      "outputs": []
    },
    {
      "cell_type": "code",
      "metadata": {
        "colab": {
          "base_uri": "https://localhost:8080/"
        },
        "id": "vojQpzinoF6_",
        "outputId": "64d75983-d993-49c9-944e-d50f37a7c6f5"
      },
      "source": [
        "exercicio = int(input(\"Quantas minutos você se exercita por dia: \"))\n",
        "if exercicio < 30:\n",
        "  print ('Você deveriar malhar mais!')\n",
        "elif exercicio >= 30 and exercicio <= 60:\n",
        "  print ('Você esta no caminho certo')\n",
        "elif exercicio > 60 and exercicio <= 120:\n",
        "  print ('Você é um atleta')\n",
        "else:\n",
        "  print ('Muito exercicio. Diminua seu ritmo')     \n"
      ],
      "execution_count": null,
      "outputs": [
        {
          "output_type": "stream",
          "text": [
            "Quantas minutos você se exercita por dia: 300\n",
            "Muito exercicio. Diminua seu ritmo\n"
          ],
          "name": "stdout"
        }
      ]
    },
    {
      "cell_type": "code",
      "metadata": {
        "colab": {
          "base_uri": "https://localhost:8080/"
        },
        "id": "Oxum6O5cp4QO",
        "outputId": "ba79b389-5ede-4f55-f9e3-7214a7fa209a"
      },
      "source": [
        "print('A soma dos dois numero é metade de 120')\n",
        "num1 = int(input('Digite o primero numero: '))\n",
        "num2 = int(input('Digite o segundo numero: '))\n",
        "\n",
        "if num1 + num2 == 60:\n",
        "  print('Acertou')\n",
        "else:\n",
        "  print('Errouuu!!!')\n"
      ],
      "execution_count": null,
      "outputs": [
        {
          "output_type": "stream",
          "text": [
            "A soma dos dois numero é metade de 120\n",
            "Digite o primero numero: 30\n",
            "Digite o segundo numero: 30\n",
            "Acertou\n"
          ],
          "name": "stdout"
        }
      ]
    },
    {
      "cell_type": "code",
      "metadata": {
        "colab": {
          "base_uri": "https://localhost:8080/"
        },
        "id": "zqzv6c-frXFW",
        "outputId": "91665770-b974-474f-ae27-3dabfc0f5ac3"
      },
      "source": [
        "trabalho = input ('Você deve trabalhar hoje? ')\n",
        "dia = input ('O dia esta bonito? ')\n",
        "preguica = input ('Você esta com preguisa? ')\n",
        "\n",
        "if trabalho == 'sim':\n",
        "  print ('É uma pena!')\n",
        "elif trabalho == 'não':\n",
        "  print('Aproveite o dia!')\n",
        "\n",
        "if dia == 'sim' and trabalho == 'não':\n",
        "  print ('Aproveite para caminhar')\n",
        "elif dia == 'não' and trabalho == 'não':\n",
        "  print('Aproveita e assite um filme')\n",
        "\n",
        "if preguica == 'sim' and trabalho == 'não':\n",
        "  print('Aproveita e dorme mais')\n",
        "elif preguica == 'não'  and trabalho == 'não':\n",
        "  print('Que tal estudar Python?')      \n",
        "\n",
        "\n"
      ],
      "execution_count": null,
      "outputs": [
        {
          "output_type": "stream",
          "text": [
            "Você deve trabalhar hoje? não\n",
            "O dia esta bonito? sim\n",
            "Você esta com preguisa? sim\n",
            "Aproveite o dia!\n",
            "Aproveite para caminhar\n",
            "Aproveita e dorme mais\n"
          ],
          "name": "stdout"
        }
      ]
    },
    {
      "cell_type": "code",
      "metadata": {
        "id": "bvLrcwG7unVM"
      },
      "source": [
        "#FOR repitição\n",
        "\n",
        "cor = ['verde','amarelo','azul','cinza','vermelho']\n",
        "for x in cor:\n",
        "  print(x)\n",
        "\n",
        "for i in 'lerletraporletraemostrar':\n",
        "  print(i)\n",
        "\n",
        "# FOR Break\n",
        "\n",
        "numeros = (1,2,3,4,5,6,7,8,9,10)\n",
        "for x in numeros:\n",
        "  print(x)\n",
        "\n",
        "numeros1 = (1,2,3,4,5,6,7,8,9,10)\n",
        "for x in numeros1:\n",
        "  print(x)\n",
        "  if x == 7:\n",
        "    break\n",
        "\n",
        "numeros1 = (1,2,3,4,5,6,7,8,9,10)\n",
        "for x in numeros1:\n",
        "  if x == 7:\n",
        "      print(x)\n",
        "      break\n",
        "\n"
      ],
      "execution_count": null,
      "outputs": []
    }
  ]
}