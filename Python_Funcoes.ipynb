{
  "nbformat": 4,
  "nbformat_minor": 0,
  "metadata": {
    "colab": {
      "name": "Funcoes.ipynb",
      "provenance": [],
      "collapsed_sections": [],
      "authorship_tag": "ABX9TyNH7LLXPNSeTe9xtO9OdW1l",
      "include_colab_link": true
    },
    "kernelspec": {
      "name": "python3",
      "display_name": "Python 3"
    },
    "language_info": {
      "name": "python"
    }
  },
  "cells": [
    {
      "cell_type": "markdown",
      "metadata": {
        "id": "view-in-github",
        "colab_type": "text"
      },
      "source": [
        "<a href=\"https://colab.research.google.com/github/RobertoMartins44/Curso_de_Python_IGTI/blob/main/Python_Funcoes.ipynb\" target=\"_parent\"><img src=\"https://colab.research.google.com/assets/colab-badge.svg\" alt=\"Open In Colab\"/></a>"
      ]
    },
    {
      "cell_type": "code",
      "metadata": {
        "id": "Bu8cdFMWS6h-",
        "colab": {
          "base_uri": "https://localhost:8080/"
        },
        "outputId": "6806b30a-e3a9-4985-84a9-b21263ae69f3"
      },
      "source": [
        "# Funçoes\n",
        "\n",
        "def hello (meu_nome):\n",
        "  print ('Olá',meu_nome)\n",
        "\n",
        "hello('Roberto')\n",
        "\n",
        "\n",
        "\n"
      ],
      "execution_count": null,
      "outputs": [
        {
          "output_type": "stream",
          "text": [
            "Olá Roberto\n"
          ],
          "name": "stdout"
        }
      ]
    },
    {
      "cell_type": "code",
      "metadata": {
        "colab": {
          "base_uri": "https://localhost:8080/"
        },
        "id": "27GDGvSIYSLD",
        "outputId": "93ce0bc8-9946-437a-dd07-dd2f50cd6ef4"
      },
      "source": [
        "def hello1 (meu_name,idade):\n",
        "  print('Olá',meu_name, ', Sua Idade é: ',idade)\n",
        "\n",
        "hello1('Roberto',44)\n"
      ],
      "execution_count": null,
      "outputs": [
        {
          "output_type": "stream",
          "text": [
            "Olá Roberto , Sua Idade é:  44\n"
          ],
          "name": "stdout"
        }
      ]
    },
    {
      "cell_type": "code",
      "metadata": {
        "colab": {
          "base_uri": "https://localhost:8080/"
        },
        "id": "ytd4BA95ZjWt",
        "outputId": "785deb41-e7fc-49ea-9339-963bdb092995"
      },
      "source": [
        "def calcular_pagamento (qtd_horas,valor_hora):\n",
        "  horas = float(qtd_horas)\n",
        "  taxa = float(valor_hora)\n",
        "  if horas < 40:\n",
        "    salario = horas * taxa\n",
        "  else:\n",
        "    h_excd = horas - 40\n",
        "    salario = 40 * taxa + (h_excd * (1.5 * taxa))\n",
        "    return salario\n",
        "\n",
        "str_horas = input ('Digite as horas: ')\n",
        "str_taxa  = input ('Digite a taxa: ')\n",
        "total_salario = calcular_pagamento (str_horas,str_taxa)\n",
        "print ('O valor de seus rendimentos é R$ :',total_salario)"
      ],
      "execution_count": null,
      "outputs": [
        {
          "output_type": "stream",
          "text": [
            "Digite as horas: 40\n",
            "Digite a taxa: 5\n",
            "O valor de seus rendimentos é R$ : 200.0\n"
          ],
          "name": "stdout"
        }
      ]
    }
  ]
}