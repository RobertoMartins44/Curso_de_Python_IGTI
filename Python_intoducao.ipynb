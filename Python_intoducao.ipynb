{
  "nbformat": 4,
  "nbformat_minor": 0,
  "metadata": {
    "colab": {
      "name": "ExModulo1.ipynb",
      "provenance": [],
      "collapsed_sections": [],
      "authorship_tag": "ABX9TyOIEpXkynD1+9J0BxCK80kX",
      "include_colab_link": true
    },
    "kernelspec": {
      "name": "python3",
      "display_name": "Python 3"
    },
    "language_info": {
      "name": "python"
    }
  },
  "cells": [
    {
      "cell_type": "markdown",
      "metadata": {
        "id": "view-in-github",
        "colab_type": "text"
      },
      "source": [
        "<a href=\"https://colab.research.google.com/github/RobertoMartins44/Curso_de_Python_IGTI/blob/main/Python_intoducao.ipynb\" target=\"_parent\"><img src=\"https://colab.research.google.com/assets/colab-badge.svg\" alt=\"Open In Colab\"/></a>"
      ]
    },
    {
      "cell_type": "code",
      "metadata": {
        "colab": {
          "base_uri": "https://localhost:8080/"
        },
        "id": "gWIx1AWECjdV",
        "outputId": "4ab047af-8c54-4e31-b093-f0dc173f8d12"
      },
      "source": [
        "\n",
        "print ('Estou adorando o bootcamp de Python')\n",
        "print ('Vou beber um copo d\\'água e voltar a estudar Python')\n",
        "print (\"Vou compartilhar com meus amigos sobre o bootcamp\")"
      ],
      "execution_count": null,
      "outputs": [
        {
          "output_type": "stream",
          "text": [
            "Estou adorando o bootcamp de Python\n",
            "Vou beber um copo d'água e voltar a estudar Python\n",
            "Vou compartilhar com meus amigos sobre o bootcamp\n"
          ],
          "name": "stdout"
        }
      ]
    },
    {
      "cell_type": "code",
      "metadata": {
        "colab": {
          "base_uri": "https://localhost:8080/"
        },
        "id": "mCc11IMgJH0t",
        "outputId": "49b270d4-d4ac-47d4-cb3d-ec65e232f68c"
      },
      "source": [
        "if 10 > 5:\n",
        " print ('Sim 10 é maior que 5')"
      ],
      "execution_count": null,
      "outputs": [
        {
          "output_type": "stream",
          "text": [
            "Sim 10 é maior que 5\n"
          ],
          "name": "stdout"
        }
      ]
    },
    {
      "cell_type": "code",
      "metadata": {
        "colab": {
          "base_uri": "https://localhost:8080/",
          "height": 120
        },
        "id": "iQ5YIcUdKHXb",
        "outputId": "e8c3da56-729a-4676-cba1-5dec9ea4cbb5"
      },
      "source": [
        "numero = 5\n",
        "Python = 'Melhor linguagem de Programação'\n",
        "num_pi = 3.14\n",
        "soma = 5+5\n",
        "#a Função print imprime um resultado\n",
        "print(numero)\n",
        "print(Python)\n",
        "print(num_pi)\n",
        "print(soma)\n",
        "# Exemplo de comentário ''' ou \"\"\"\n",
        "\n",
        "soma = 5+5 # Criando uma variável de soma\n",
        "''' \n",
        "A partir do momento que coloquei três aspas simples, tudo o que \n",
        "eu escrever aqui dentro será considerado comentário. \n",
        "É muito útil quando queremos explicar alguma coisa, ou deixar \n",
        "instruções dentro ou antes do código. \n",
        "'''\n",
        "\n"
      ],
      "execution_count": null,
      "outputs": [
        {
          "output_type": "stream",
          "text": [
            "5\n",
            "Melhor linguagem de Programação\n",
            "3.14\n",
            "10\n"
          ],
          "name": "stdout"
        },
        {
          "output_type": "execute_result",
          "data": {
            "application/vnd.google.colaboratory.intrinsic+json": {
              "type": "string"
            },
            "text/plain": [
              "' \\nA partir do momento que coloquei três aspas simples, tudo o que \\neu escrever aqui dentro será considerado comentário. \\nÉ muito útil quando queremos explicar alguma coisa, ou deixar \\ninstruções dentro ou antes do código. \\n'"
            ]
          },
          "metadata": {
            "tags": []
          },
          "execution_count": 20
        }
      ]
    },
    {
      "cell_type": "code",
      "metadata": {
        "colab": {
          "base_uri": "https://localhost:8080/"
        },
        "id": "BIGdmmjyLl6U",
        "outputId": "46b5c37e-cbfb-438a-afc9-fc61232984f5"
      },
      "source": [
        "#declaração de variavel string\n",
        "cidade = 'Sao d\\' Paulo'\n",
        "print (cidade)\n",
        "#declaração de variavel integer\n",
        "numcpf = int (123456)\n",
        "print (numcpf)\n",
        "\n",
        "#declaração de variavel float\n",
        "num_pi = 3.14\n",
        "print (num_pi)\n",
        "\n",
        "#declaração de variavel dictionary\n",
        "uf_sud = {'MG':31, 'SP':35, 'RJ':33, 'ES':32}\n",
        "# Definindo código da capital do Amazonas\n",
        "cod_manaus = {'Manaus':1302603}\n",
        "# Definindo o gentílico de quem nasce em Manaus\n",
        "gentílico = {'Manaus':'manauara'}\n",
        "\n"
      ],
      "execution_count": null,
      "outputs": [
        {
          "output_type": "stream",
          "text": [
            "Sao d' Paulo\n",
            "123456\n",
            "3.14\n"
          ],
          "name": "stdout"
        }
      ]
    },
    {
      "cell_type": "code",
      "metadata": {
        "id": "iU8-XgF7TQnI",
        "colab": {
          "base_uri": "https://localhost:8080/",
          "height": 35
        },
        "outputId": "0746fa41-0af3-4183-e165-74dc4b23e0a7"
      },
      "source": [
        "#if else\n",
        "'''\n",
        "idade = 18\n",
        "if idade < 12:\n",
        " print('crianca')\n",
        "elif idade < 18:\n",
        " print('adolescente')\n",
        "elif idade < 60:\n",
        " print('adulto')\n",
        "else:\n",
        " print('idoso')\n",
        "        \n",
        "'''\n",
        "\n",
        "# For\n",
        "'''\n",
        "for i in range(1,5):\n",
        " print(i)\n",
        "\n",
        "\n",
        " nomes = ['João', 'Maria', 'José', 'Geraldo', 'Sebastião']\n",
        "for i in nomes:\n",
        " print(i)\n",
        "'''\n",
        " #while\n",
        "\n"
      ],
      "execution_count": null,
      "outputs": [
        {
          "output_type": "execute_result",
          "data": {
            "application/vnd.google.colaboratory.intrinsic+json": {
              "type": "string"
            },
            "text/plain": [
              "\"\\nfor i in range(1,5):\\n print(i)\\n\\n\\n nomes = ['João', 'Maria', 'José', 'Geraldo', 'Sebastião']\\nfor i in nomes:\\n print(i)\\n\""
            ]
          },
          "metadata": {
            "tags": []
          },
          "execution_count": 54
        }
      ]
    },
    {
      "cell_type": "code",
      "metadata": {
        "colab": {
          "base_uri": "https://localhost:8080/"
        },
        "id": "Ep80VxWtYoom",
        "outputId": "e1a01169-80ed-4f07-fac2-6b4d2b1f7632"
      },
      "source": [
        "#while\n",
        "numero = 0\n",
        "while numero <=5:\n",
        "  numero += 1\n",
        "  print (numero)\n"
      ],
      "execution_count": null,
      "outputs": [
        {
          "output_type": "stream",
          "text": [
            "1\n",
            "2\n",
            "3\n",
            "4\n",
            "5\n",
            "6\n"
          ],
          "name": "stdout"
        }
      ]
    },
    {
      "cell_type": "markdown",
      "metadata": {
        "id": "AqG3g_h7tBEF"
      },
      "source": [
        ""
      ]
    },
    {
      "cell_type": "code",
      "metadata": {
        "id": "dRXgKm6IY-fN"
      },
      "source": [
        "#Funções\n",
        "\n",
        "def calc_area (point1,point2): \n",
        "  x1,y1 = point1\n",
        "  x2,y2 = point2\n",
        "  return (x1*y2 - y1*x2) / 2 \n",
        "\n",
        "#lambda função anonima\n",
        "soma = lambda x, y: x + y\n",
        "\n",
        "import pandas\n",
        "\n",
        "from geopy import geocode \n",
        "from math import pi, sqrt\n",
        "\n"
      ],
      "execution_count": null,
      "outputs": []
    },
    {
      "cell_type": "code",
      "metadata": {
        "colab": {
          "base_uri": "https://localhost:8080/"
        },
        "id": "Uu47FcYrwIaZ",
        "outputId": "8dbd9ef6-5ed8-433a-a127-925fbd501ba1"
      },
      "source": [
        "a = 10 ++++++ 5\n",
        "print (a)\n"
      ],
      "execution_count": null,
      "outputs": [
        {
          "output_type": "stream",
          "text": [
            "15\n"
          ],
          "name": "stdout"
        }
      ]
    },
    {
      "cell_type": "markdown",
      "metadata": {
        "id": "xPpTLgHtXr--"
      },
      "source": [
        "numero = 0\n",
        "while numero <=5:\n",
        " numero += 1\n",
        " if numero > 3:\n",
        "    print(numero) \n"
      ]
    }
  ]
}